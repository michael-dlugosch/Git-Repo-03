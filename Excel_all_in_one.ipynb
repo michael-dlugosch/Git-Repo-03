{
 "cells": [
  {
   "cell_type": "code",
   "execution_count": 7,
   "metadata": {},
   "outputs": [],
   "source": [
    "# innerhalb meiner Programmierung Pandas benutzen, damit ganze Datei am Stück lesen\n",
    "import pandas as pd\n",
    "import os\n",
    "import numpy as np"
   ]
  },
  {
   "cell_type": "code",
   "execution_count": null,
   "metadata": {},
   "outputs": [],
   "source": []
  },
  {
   "cell_type": "code",
   "execution_count": 8,
   "metadata": {
    "scrolled": true
   },
   "outputs": [],

   "source": [
    "# Excel-Datei einlesen und ausgeben mit Pandas, sonst For-Loop bauen\n",
    "# usecols = nur die angegebene Spalte lesen, 0=Namen, 1=Werte\n",
    "Testdaten1 = pd.read_excel('einzelne_Woche_leer.xlsx',usecols = [0])\n",
    "Testdaten2 = pd.DataFrame()\n",
    "TestdatenTmp = pd.DataFrame()\n",
    "# concat = verkette, axis1 = horizontal, ./ = aktueller Ordner/Verzeichnis\n",
    "# if-Abfrage für: nur xlxs-Dateien lesen\n",
    "for filename in os. listdir (\"./Input/\"):\n",
    "    if filename.endswith (\".xlsx\"):\n",
    "        TestdatenTmp = pd.read_excel(\"Input/\"+filename,usecols=[1])\n",
    "        Testdaten2 = pd.concat ([Testdaten2, TestdatenTmp], axis=1)\n",
    "\n",
    "Testdaten2 = Testdaten2.T.sort_values([2, 3], ascending = (True, True))\n",
    "\n",
    "Testdaten3 = Testdaten2.groupby([3,4]).apply(np.sum)\n",
    "\n",
    "Testdaten2 = pd.concat([Testdaten2.T, Testdaten3.T], axis=1)\n",
    "\n",
    "Testdaten1 = pd.concat ([Testdaten1, Testdaten2], axis=1).rename(columns={\"Unnamed: 1\": \"\"})\n",
    "\n",
    "#print(Testdaten1)\n",
    "\n",
    "\n",
    "# output-Datei in den Output-Ordner schreiben\n",
    "Testdaten1.to_excel(\"./Output/output.xlsx\")  \n"
   ]
  },
  {
   "cell_type": "code",
   "execution_count": null,
   "metadata": {},
   "outputs": [],
   "source": []
  },
  {
   "cell_type": "code",
   "execution_count": 4,
   "metadata": {},
   "outputs": [],
   "source": [
    "# erledigt: Sortieren innerhalb der Kalenderwoche"
   ]
  },
  {
   "cell_type": "code",
   "execution_count": 3,
   "metadata": {},
   "outputs": [],
   "source": [
    "# to do:  Summieren der Spaltenwerte"
   ]
  },
  {
   "cell_type": "code",
   "execution_count": null,
   "metadata": {},
   "outputs": [],
   "source": []
  },
  {
   "cell_type": "code",
   "execution_count": null,
   "metadata": {},
   "outputs": [],
   "source": []
  }
 ],
 "metadata": {
  "kernelspec": {
   "display_name": "Python 3",
   "language": "python",
   "name": "python3"
  },
  "language_info": {
   "codemirror_mode": {
    "name": "ipython",
    "version": 3
   },
   "file_extension": ".py",
   "mimetype": "text/x-python",
   "name": "python",
   "nbconvert_exporter": "python",
   "pygments_lexer": "ipython3",
   "version": "3.7.6"
  }
 },
 "nbformat": 4,
 "nbformat_minor": 4
}
