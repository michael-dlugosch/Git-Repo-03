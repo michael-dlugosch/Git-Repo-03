{
 "cells": [
  {
   "cell_type": "code",
   "execution_count": 46,
   "metadata": {},
   "outputs": [],
   "source": [
    "# im Programm verwendete Module\n",
    "# Pandas: zum bearbeiten von Excel-Dateien: einlesen, abspeichern, summieren\n",
    "import pandas as pd\n",
    "# OS: für Zugriff auf Ordner\n",
    "import os"
   ]
  },
  {
   "cell_type": "code",
   "execution_count": 47,
   "metadata": {
    "scrolled": true
   },
   "outputs": [],
   "source": [
    "# Strukturierung von Variablen\n",
    "Fragen = pd.read_excel('einzelne_Woche_leer.xlsx',usecols = [0], skiprows=[0,1])\n",
    "Inputdateien = pd.DataFrame()\n",
    "Tmp = pd.DataFrame()\n",
    "Output = pd.DataFrame()\n",
    "Summe = pd.DataFrame()\n",
    "\n",
    "# Input-Dateien einlesen und Spalten der Variable »Inputdateien« abspreichern\n",
    "for filename in os.listdir (\"./Input/\"):\n",
    "    if filename.endswith (\".xlsx\"):\n",
    "        Tmp = pd.read_excel(\"Input/\"+filename,usecols=[1], skiprows=[0,1])\n",
    "        Inputdateien = pd.concat ([Inputdateien, Tmp], axis=1)\n",
    "\n",
    "# Transponieren zur einfacheren Weiterbearbeitung; Strukturierung        \n",
    "Inputdateien = Inputdateien.T.groupby([0,1,2]).sum()\n",
    "\n",
    "# Füge Index zu beiden Output-Dateien hinzu\n",
    "Output = Fragen.T.groupby([0,1,2]).sum()\n",
    "Summe = Fragen.T.groupby([0,1,2], sort=False).sum()\n",
    "\n",
    "# Output-Dateien befüllen mit Inputwerten, Inputwerte verheiraten mit Index\n",
    "Output = Output.append(Inputdateien)\n",
    "Summe = Summe.append(Inputdateien)\n",
    "\n",
    "# Summerien der Inputwerte in der Datei »Summe«\n",
    "Summe = Summe.sum(level=[1,2])\n",
    "\n",
    "# zurücktransponieren; Output-Datei und Summe-Datei in Output-Ordner schreiben \n",
    "\n",
    "Output.T.to_excel(\"./Output/output.xlsx\") \n",
    "Summe.T.to_excel(\"./Output/gesamtSummeOutput.xlsx\")\n"
   ]
  }
 ],
 "metadata": {
  "kernelspec": {
   "display_name": "Python 3",
   "language": "python",
   "name": "python3"
  },
  "language_info": {
   "codemirror_mode": {
    "name": "ipython",
    "version": 3
   },
   "file_extension": ".py",
   "mimetype": "text/x-python",
   "name": "python",
   "nbconvert_exporter": "python",
   "pygments_lexer": "ipython3",
   "version": "3.7.6"
  }
 },
 "nbformat": 4,
 "nbformat_minor": 4
}
